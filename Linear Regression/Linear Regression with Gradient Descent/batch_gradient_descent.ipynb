{
 "cells": [
  {
   "cell_type": "markdown",
   "id": "5fb96e0b-0ebd-4168-b275-a82da06bc86d",
   "metadata": {},
   "source": [
    "# Batch Gradient Descent for Linear Regression"
   ]
  },
  {
   "cell_type": "markdown",
   "id": "9338a686-cf61-4742-816e-f9da54c23339",
   "metadata": {},
   "source": [
    "**Linear Regression** \\\n",
    "Linear Regression is the relation between a dependent varaible and an independent varaible or more.\\\n",
    "The goal is to find a linear equation that best describes the relationship between the input features \\\n",
    "and the output variable \n",
    "\n",
    "\n",
    "**Linear Regression Equation** \\\n",
    "$\\hat{y} = {w*x} + {b}$ \\\n",
    "$\\hat{y}$ -> **dependent variable**\\\n",
    "${w}$ -> **coefficient/slope/weight**\\\n",
    "${x}$ -> **independent variable** \\\n",
    "${b}$ -> **y-intercept** / **bias**"
   ]
  },
  {
   "cell_type": "markdown",
   "id": "d145bc1f-88b9-462f-832e-afe74cb2fc72",
   "metadata": {
    "tags": []
   },
   "source": [
    "**Gradient Descent**\\\n",
    "Its an optimized algorithm used to find the optimal values of the **coefficients** and for **y-intercept**\\\n",
    "The goal is to iteratively update the values of ${w}$ and ${b}$ in a way that minimizes the **loss function**\\\n",
    "By minimizing the loss function the algorithm finds the best-fit that passes throught the data points allowing the model\\\n",
    "to make accurate predictions for new data points\n",
    "\n",
    "- Calculate the Loss Function\n",
    "- Learning Rate: is sensitive\n",
    "- Calculate Derivate: Intercept and Slope\n",
    "- Calculate Step SIze\n",
    "- Calculate hte New Intercept and New Slope\n",
    "- Number of Iterations: normally the maximum number is 1000"
   ]
  },
  {
   "cell_type": "markdown",
   "id": "d2e8e076-1b81-41da-8022-112dcdddcaff",
   "metadata": {
    "tags": []
   },
   "source": [
    "**Loss Function**\\\n",
    "Use the MSE (Mean Square Error)"
   ]
  },
  {
   "cell_type": "markdown",
   "id": "76bad6ec-801f-457b-9593-9d59fcbef14e",
   "metadata": {},
   "source": [
    "## Steps\n",
    "\n",
    "### Training\n",
    "Initialize the **weight** as zero\\\n",
    "Initialize the **bias** as zero"
   ]
  },
  {
   "cell_type": "code",
   "execution_count": 173,
   "id": "8b947dee-5ac5-434c-a9a4-c72fd845837b",
   "metadata": {
    "tags": []
   },
   "outputs": [],
   "source": [
    "import numpy as np"
   ]
  },
  {
   "cell_type": "code",
   "execution_count": 1,
   "id": "1f59d602-fe02-4cc8-824d-dd2581109815",
   "metadata": {
    "tags": []
   },
   "outputs": [],
   "source": [
    "class LinearRegression:\n",
    "    \n",
    "    def __init__(self, lr=0.01, n_iter=1000):\n",
    "        self.lr = lr\n",
    "        self.n_iter = n_iter\n",
    "        self.weight = None\n",
    "        self.bias = None\n",
    "        \n",
    "    def fit(self, X, y): # used for the training\n",
    "        \n",
    "        # Initialization and previous loss value -------------------------------\n",
    "        n_samples, n_features = X.shape\n",
    "        self.weight = np.zeros(n_features)\n",
    "        self.bias = 0\n",
    "        # ---------------------------------------------------------------------\n",
    "        \n",
    "        for i in range(self.n_iter):\n",
    "            # predict the result by the linear regression equation\n",
    "            y_predict = np.dot(X, self.weight) + self.bias            \n",
    "            \n",
    "            # calculate the derivative of weight and bias\n",
    "            dw = (1/n_samples) * np.dot(X.T, (y_predict - y))\n",
    "            db = (1/n_samples) * np.sum(y_predict - y)\n",
    "            \n",
    "            # Step Size\n",
    "            step_w = dw * self.lr\n",
    "            step_b = db * self.lr\n",
    "            \n",
    "            # Update the weight and bias\n",
    "            self.weight = self.weight - step_w\n",
    "            self.bias = self.bias - step_b\n",
    "            \n",
    "            # Calculate the current loss (MSE)\n",
    "            loss = np.mean((y_predict - y)**2)\n",
    "             \n",
    "        \n",
    "    def predict(self, X): # used for the predictions \n",
    "        y_pred = np.dot(X, self.weight) + self.bias\n",
    "        return y_pred\n"
   ]
  },
  {
   "cell_type": "code",
   "execution_count": 233,
   "id": "0a42a672-331c-4b79-ad29-8f12970513cf",
   "metadata": {
    "tags": []
   },
   "outputs": [],
   "source": [
    "from sklearn.model_selection import train_test_split\n",
    "from sklearn import datasets\n",
    "import matplotlib.pyplot as plt"
   ]
  },
  {
   "cell_type": "code",
   "execution_count": 234,
   "id": "8abad38c-6f10-443f-ba76-d18c380fc0fc",
   "metadata": {
    "tags": []
   },
   "outputs": [],
   "source": [
    "X, y = datasets.make_regression(n_samples=100, n_features=1, noise=20, random_state=4)"
   ]
  },
  {
   "cell_type": "code",
   "execution_count": 235,
   "id": "e064dfd3-97b7-4802-91f4-2b806124c3bd",
   "metadata": {
    "tags": []
   },
   "outputs": [],
   "source": [
    "X_train, X_valid, y_train, y_valid = train_test_split(X, y, test_size=0.2, random_state=1234)"
   ]
  },
  {
   "cell_type": "code",
   "execution_count": 236,
   "id": "f52edcba-3972-4e6f-8103-8591968c29cb",
   "metadata": {
    "tags": []
   },
   "outputs": [],
   "source": [
    "reg = LinearRegression()\n",
    "reg.fit(X_train, y_train)\n",
    "predictions = reg.predict(X_valid)"
   ]
  },
  {
   "cell_type": "code",
   "execution_count": 237,
   "id": "a897c664-0bd7-4921-a896-d32512c688de",
   "metadata": {
    "tags": []
   },
   "outputs": [],
   "source": [
    "def mse(y_valid, predictions):\n",
    "    return np.mean((y_valid-predictions)**2)"
   ]
  },
  {
   "cell_type": "code",
   "execution_count": 238,
   "id": "01a0001b-9e53-4ee9-ba13-216de62dfb84",
   "metadata": {
    "tags": []
   },
   "outputs": [],
   "source": [
    "mse = mse(y_valid, predictions)"
   ]
  },
  {
   "cell_type": "code",
   "execution_count": 239,
   "id": "7bc100bc-2ce5-49b7-81b4-b3df9f46dd45",
   "metadata": {
    "tags": []
   },
   "outputs": [
    {
     "data": {
      "text/plain": [
       "305.7719958301902"
      ]
     },
     "execution_count": 239,
     "metadata": {},
     "output_type": "execute_result"
    }
   ],
   "source": [
    "mse"
   ]
  },
  {
   "cell_type": "code",
   "execution_count": 240,
   "id": "6f9b1679-dfcc-4bdb-b216-53a63ebdfb9c",
   "metadata": {},
   "outputs": [
    {
     "data": {
      "image/png": "[encoded data removed]",
      "text/plain": [
       "<Figure size 800x600 with 1 Axes>"
      ]
     },
     "metadata": {},
     "output_type": "display_data"
    }
   ],
   "source": [
    "y_pred_line = reg.predict(X)\n",
    "cmap = plt.get_cmap('viridis')\n",
    "fig = plt.figure(figsize=(8,6))\n",
    "m1 = plt.scatter(X_train, y_train, color=cmap(0.9), s=10)\n",
    "m2 = plt.scatter(X_valid, y_valid, color=cmap(0.5), s=10)\n",
    "plt.plot(X, y_pred_line, color='black', linewidth=1, label='Prediction')\n",
    "plt.show()"
   ]
  },
  {
   "cell_type": "code",
   "execution_count": null,
   "id": "0e43c18b-6ba1-4f26-b6cf-18deff915648",
   "metadata": {},
   "outputs": [],
   "source": []
  }
 ],
 "metadata": {
  "kernelspec": {
   "display_name": "Python 3 (ipykernel)",
   "language": "python",
   "name": "python3"
  },
  "language_info": {
   "codemirror_mode": {
    "name": "ipython",
    "version": 3
   },
   "file_extension": ".py",
   "mimetype": "text/x-python",
   "name": "python",
   "nbconvert_exporter": "python",
   "pygments_lexer": "ipython3",
   "version": "3.11.3"
  }
 },
 "nbformat": 4,
 "nbformat_minor": 5
}
